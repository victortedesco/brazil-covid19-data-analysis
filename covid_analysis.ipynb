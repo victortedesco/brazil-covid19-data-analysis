{
 "cells": [
  {
   "cell_type": "code",
   "execution_count": null,
   "id": "ba9b8cfa",
   "metadata": {},
   "outputs": [],
   "source": [
    "%pip install mplcursors"
   ]
  },
  {
   "cell_type": "code",
   "execution_count": 3,
   "id": "259cdf67",
   "metadata": {},
   "outputs": [
    {
     "name": "stdout",
     "output_type": "stream",
     "text": [
      "DataFrame loaded sucessfully!\n",
      "Number of lines: 3853648\n"
     ]
    }
   ],
   "source": [
    "import pandas as pd\n",
    "import requests\n",
    "from io import BytesIO\n",
    "\n",
    "url = \"https://data.brasil.io/dataset/covid19/caso_full.csv.gz\"\n",
    "headers = {\"User-Agent\": \"Mozilla/5.0\"}\n",
    "\n",
    "response = requests.get(url, headers=headers)\n",
    "\n",
    "if response.status_code == 200:\n",
    "    covid_df = pd.read_csv(BytesIO(response.content), compression=\"gzip\")\n",
    "    print(\"DataFrame loaded sucessfully!\")\n",
    "    print(\"Number of lines:\", len(covid_df))\n",
    "else:\n",
    "    print(\"Error to load:\", response.status_code)"
   ]
  },
  {
   "cell_type": "code",
   "execution_count": null,
   "id": "80f6b55e",
   "metadata": {},
   "outputs": [
    {
     "data": {
      "application/vnd.jupyter.widget-view+json": {
       "model_id": "cbee1c2feee4498e923cb5d850f5b831",
       "version_major": 2,
       "version_minor": 0
      },
      "text/plain": [
       "interactive(children=(Dropdown(description='State:', index=25, options=('AC', 'AL', 'AM', 'AP', 'BA', 'CE', 'D…"
      ]
     },
     "metadata": {},
     "output_type": "display_data"
    },
    {
     "data": {
      "text/plain": [
       "<function __main__.plot_covid_data(state='SP', city=None, start_date=None, end_date=None)>"
      ]
     },
     "execution_count": 9,
     "metadata": {},
     "output_type": "execute_result"
    }
   ],
   "source": [
    "import pandas as pd\n",
    "import matplotlib.pyplot as plt\n",
    "import ipywidgets as widgets\n",
    "from ipywidgets import interact\n",
    "import mplcursors\n",
    "\n",
    "df = covid_df.copy()\n",
    "\n",
    "\n",
    "def get_cities_by_state(state):\n",
    "    cities = (\n",
    "        df[(df[\"place_type\"] == \"city\") & (df[\"state\"] == state)][\"city\"]\n",
    "        .dropna()\n",
    "        .unique()\n",
    "    )\n",
    "    return sorted(cities)\n",
    "\n",
    "\n",
    "def update_cities_on_state_change(state):\n",
    "    cities = get_cities_by_state(state)\n",
    "    cities.insert(0, \"TOTAL\")\n",
    "    city_widget.options = cities\n",
    "    city_widget.value = \"TOTAL\"\n",
    "\n",
    "\n",
    "def format_number(x):\n",
    "    return \"{:,.0f}\".format(x)\n",
    "\n",
    "\n",
    "def plot_covid_data(state=\"SP\", city=None, start_date=None, end_date=None):\n",
    "    scale = 1.0\n",
    "    df = covid_df.copy()\n",
    "    state = state.upper()\n",
    "\n",
    "    df = df[df[\"state\"] == state]\n",
    "\n",
    "    if city and city != \"TOTAL\":\n",
    "        df = df[(df[\"place_type\"] == \"city\") & (df[\"city\"] == city)]\n",
    "    else:\n",
    "        df = df[df[\"city\"].isna()]\n",
    "\n",
    "    df[\"date\"] = pd.to_datetime(df[\"date\"])\n",
    "\n",
    "    if start_date:\n",
    "        df = df[df[\"date\"] >= pd.to_datetime(start_date)]\n",
    "    if end_date:\n",
    "        df = df[df[\"date\"] <= pd.to_datetime(end_date)]\n",
    "\n",
    "    if df.empty:\n",
    "        print(\"No data for this selection.\")\n",
    "        return\n",
    "\n",
    "    plt.figure(figsize=(12, 5))\n",
    "    (confirmed_line,) = plt.plot(\n",
    "        df[\"date\"],\n",
    "        df[\"last_available_confirmed\"] / scale,\n",
    "        \"b-\",\n",
    "        label=\"Confirmed Cases\",\n",
    "    )\n",
    "    (deaths_line,) = plt.plot(\n",
    "        df[\"date\"], df[\"last_available_deaths\"] / scale, \"r-\", label=\"Deaths\"\n",
    "    )\n",
    "\n",
    "    confirmed_points = plt.scatter(\n",
    "        df[\"date\"], df[\"last_available_confirmed\"] / scale, color=\"blue\", alpha=0.5\n",
    "    )\n",
    "    deaths_points = plt.scatter(\n",
    "        df[\"date\"], df[\"last_available_deaths\"] / scale, color=\"red\", alpha=0.5\n",
    "    )\n",
    "\n",
    "    plt.title(f\"COVID-19 Trends - {f\"{city} ({state})\" if city and city != 'TOTAL' else state}\")\n",
    "    plt.xlabel(\"Date\")\n",
    "    plt.ylabel(f\"Cases / Deaths\")\n",
    "    plt.legend()\n",
    "    plt.xticks(rotation=45)\n",
    "    plt.gca().xaxis.set_major_locator(plt.MaxNLocator(10))\n",
    "\n",
    "    plt.gca().yaxis.set_major_formatter(\n",
    "        plt.FuncFormatter(lambda x, pos: format_number(x))\n",
    "    )\n",
    "\n",
    "    plt.tight_layout()\n",
    "    plt.grid(True)\n",
    "\n",
    "    cursor = mplcursors.cursor([confirmed_points, deaths_points], hover=True)\n",
    "\n",
    "    @cursor.connect(\"add\")\n",
    "    def on_add(sel):\n",
    "        if sel.artist == confirmed_points:\n",
    "            idx = sel.target.index\n",
    "            date = df.iloc[idx][\"date\"].strftime(\"%Y-%m-%d\")\n",
    "            cases = format_number(df.iloc[idx][\"last_available_confirmed\"])\n",
    "            sel.annotation.set(text=f\"Date: {date}\\nConfirmed: {cases}\")\n",
    "        elif sel.artist == deaths_points:\n",
    "            idx = sel.target.index\n",
    "            date = df.iloc[idx][\"date\"].strftime(\"%Y-%m-%d\")\n",
    "            deaths = format_number(df.iloc[idx][\"last_available_deaths\"])\n",
    "            sel.annotation.set(text=f\"Date: {date}\\nDeaths: {deaths}\")\n",
    "\n",
    "    plt.show()\n",
    "\n",
    "\n",
    "states = sorted(df[\"state\"].dropna().unique())\n",
    "state_widget = widgets.Dropdown(options=states, value=\"SP\", description=\"State:\")\n",
    "city_widget = widgets.Dropdown(description=\"City:\")\n",
    "\n",
    "state_widget.observe(\n",
    "    lambda change: update_cities_on_state_change(change[\"new\"]), names=\"value\"\n",
    ")\n",
    "\n",
    "# Initialize with default state\n",
    "update_cities_on_state_change(\"SP\")\n",
    "\n",
    "min_date = covid_df[\"date\"].min()\n",
    "max_date = covid_df[\"date\"].max()\n",
    "\n",
    "interact(\n",
    "    plot_covid_data,\n",
    "    state=state_widget,\n",
    "    city=city_widget,\n",
    "    start_date=widgets.DatePicker(\n",
    "        value=pd.to_datetime(min_date), description=\"Start Date:\"\n",
    "    ),\n",
    "    end_date=widgets.DatePicker(\n",
    "        value=pd.to_datetime(max_date), description=\"End Date:\"\n",
    "    ),\n",
    ")"
   ]
  }
 ],
 "metadata": {
  "kernelspec": {
   "display_name": "base",
   "language": "python",
   "name": "python3"
  },
  "language_info": {
   "codemirror_mode": {
    "name": "ipython",
    "version": 3
   },
   "file_extension": ".py",
   "mimetype": "text/x-python",
   "name": "python",
   "nbconvert_exporter": "python",
   "pygments_lexer": "ipython3",
   "version": "3.12.7"
  }
 },
 "nbformat": 4,
 "nbformat_minor": 5
}
