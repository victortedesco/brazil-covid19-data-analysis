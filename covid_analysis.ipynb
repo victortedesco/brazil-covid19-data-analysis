{
  "cells": [
    {
      "cell_type": "markdown",
      "metadata": {
        "colab_type": "text",
        "id": "view-in-github"
      },
      "source": [
        "<a href=\"https://colab.research.google.com/github/victortedesco/brazil-covid19-data-analysis/blob/main/covid_analysis.ipynb\" target=\"_parent\"><img src=\"https://colab.research.google.com/assets/colab-badge.svg\" alt=\"Open In Colab\"/></a>"
      ]
    },
    {
      "cell_type": "code",
      "execution_count": 1,
      "id": "ba9b8cfa",
      "metadata": {
        "colab": {
          "base_uri": "https://localhost:8080/"
        },
        "id": "ba9b8cfa",
        "outputId": "05135666-296d-43ba-a9d5-774859a5de10"
      },
      "outputs": [
        {
          "name": "stdout",
          "output_type": "stream",
          "text": [
            "Defaulting to user installation because normal site-packages is not writeable\n",
            "Requirement already satisfied: mplcursors in c:\\users\\victor\\appdata\\roaming\\python\\python312\\site-packages (0.6)\n",
            "Requirement already satisfied: matplotlib!=3.7.1,>=3.1 in c:\\programdata\\anaconda3\\lib\\site-packages (from mplcursors) (3.9.2)\n",
            "Requirement already satisfied: contourpy>=1.0.1 in c:\\programdata\\anaconda3\\lib\\site-packages (from matplotlib!=3.7.1,>=3.1->mplcursors) (1.2.0)\n",
            "Requirement already satisfied: cycler>=0.10 in c:\\programdata\\anaconda3\\lib\\site-packages (from matplotlib!=3.7.1,>=3.1->mplcursors) (0.11.0)\n",
            "Requirement already satisfied: fonttools>=4.22.0 in c:\\programdata\\anaconda3\\lib\\site-packages (from matplotlib!=3.7.1,>=3.1->mplcursors) (4.51.0)\n",
            "Requirement already satisfied: kiwisolver>=1.3.1 in c:\\programdata\\anaconda3\\lib\\site-packages (from matplotlib!=3.7.1,>=3.1->mplcursors) (1.4.4)\n",
            "Requirement already satisfied: numpy>=1.23 in c:\\programdata\\anaconda3\\lib\\site-packages (from matplotlib!=3.7.1,>=3.1->mplcursors) (1.26.4)\n",
            "Requirement already satisfied: packaging>=20.0 in c:\\programdata\\anaconda3\\lib\\site-packages (from matplotlib!=3.7.1,>=3.1->mplcursors) (24.1)\n",
            "Requirement already satisfied: pillow>=8 in c:\\programdata\\anaconda3\\lib\\site-packages (from matplotlib!=3.7.1,>=3.1->mplcursors) (10.4.0)\n",
            "Requirement already satisfied: pyparsing>=2.3.1 in c:\\programdata\\anaconda3\\lib\\site-packages (from matplotlib!=3.7.1,>=3.1->mplcursors) (3.1.2)\n",
            "Requirement already satisfied: python-dateutil>=2.7 in c:\\programdata\\anaconda3\\lib\\site-packages (from matplotlib!=3.7.1,>=3.1->mplcursors) (2.9.0.post0)\n",
            "Requirement already satisfied: six>=1.5 in c:\\programdata\\anaconda3\\lib\\site-packages (from python-dateutil>=2.7->matplotlib!=3.7.1,>=3.1->mplcursors) (1.16.0)\n",
            "Note: you may need to restart the kernel to use updated packages.\n"
          ]
        }
      ],
      "source": [
        "%pip install mplcursors"
      ]
    },
    {
      "cell_type": "code",
      "execution_count": 2,
      "id": "259cdf67",
      "metadata": {
        "colab": {
          "base_uri": "https://localhost:8080/"
        },
        "id": "259cdf67",
        "outputId": "6a40e7a6-f338-4f57-e67c-1cac977ce722"
      },
      "outputs": [
        {
          "name": "stdout",
          "output_type": "stream",
          "text": [
            "DataFrame loaded sucessfully!\n",
            "Number of lines: 3853648\n"
          ]
        }
      ],
      "source": [
        "import pandas as pd\n",
        "import requests\n",
        "from io import BytesIO\n",
        "\n",
        "url = \"https://data.brasil.io/dataset/covid19/caso_full.csv.gz\"\n",
        "headers = {\"User-Agent\": \"Mozilla/5.0\"}\n",
        "\n",
        "response = requests.get(url, headers=headers)\n",
        "\n",
        "if response.status_code == 200:\n",
        "    covid_df = pd.read_csv(BytesIO(response.content), compression=\"gzip\")\n",
        "    print(\"DataFrame loaded sucessfully!\")\n",
        "    print(\"Number of lines:\", len(covid_df))\n",
        "else:\n",
        "    print(\"Error to load:\", response.status_code)"
      ]
    },
    {
      "cell_type": "code",
      "execution_count": 3,
      "id": "80f6b55e",
      "metadata": {
        "colab": {
          "base_uri": "https://localhost:8080/",
          "height": 106
        },
        "id": "80f6b55e",
        "outputId": "a79bb51b-1076-4547-8749-e34b8bb527ae"
      },
      "outputs": [
        {
          "data": {
            "application/vnd.jupyter.widget-view+json": {
              "model_id": "fd79bb92bf704180b6e51a9d899408fd",
              "version_major": 2,
              "version_minor": 0
            },
            "text/plain": [
              "interactive(children=(Dropdown(description='State:', index=25, options=('AC', 'AL', 'AM', 'AP', 'BA', 'CE', 'D…"
            ]
          },
          "metadata": {},
          "output_type": "display_data"
        },
        {
          "data": {
            "text/plain": [
              "<function __main__.plot_covid_data(state='SP', city=None, start_date=None, end_date=None)>"
            ]
          },
          "execution_count": 3,
          "metadata": {},
          "output_type": "execute_result"
        }
      ],
      "source": [
        "import pandas as pd\n",
        "import matplotlib.pyplot as plt\n",
        "import ipywidgets as widgets\n",
        "from ipywidgets import interact\n",
        "import mplcursors\n",
        "\n",
        "df = covid_df.copy()\n",
        "\n",
        "\n",
        "def get_cities_by_state(state):\n",
        "    cities = (\n",
        "        df[(df[\"place_type\"] == \"city\") & (df[\"state\"] == state)][\"city\"]\n",
        "        .dropna()\n",
        "        .unique()\n",
        "    )\n",
        "    return sorted(cities)\n",
        "\n",
        "\n",
        "def update_cities_on_state_change(state):\n",
        "    cities = get_cities_by_state(state)\n",
        "    cities.insert(0, \"TOTAL\")\n",
        "    city_widget.options = cities\n",
        "    city_widget.value = \"TOTAL\"\n",
        "\n",
        "\n",
        "def format_number(x):\n",
        "    return \"{:,.0f}\".format(x)\n",
        "\n",
        "\n",
        "def plot_covid_data(state=\"SP\", city=None, start_date=None, end_date=None):\n",
        "    scale = 1.0\n",
        "    df = covid_df.copy()\n",
        "    state = state.upper()\n",
        "\n",
        "    df = df[df[\"state\"] == state]\n",
        "\n",
        "    if city and city != \"TOTAL\":\n",
        "        df = df[(df[\"place_type\"] == \"city\") & (df[\"city\"] == city)]\n",
        "    else:\n",
        "        df = df[df[\"city\"].isna()]\n",
        "\n",
        "    df[\"date\"] = pd.to_datetime(df[\"date\"])\n",
        "\n",
        "    if start_date:\n",
        "        df = df[df[\"date\"] >= pd.to_datetime(start_date)]\n",
        "    if end_date:\n",
        "        df = df[df[\"date\"] <= pd.to_datetime(end_date)]\n",
        "\n",
        "    if df.empty:\n",
        "        print(\"No data for this selection.\")\n",
        "        return\n",
        "\n",
        "    plt.figure(figsize=(12, 5))\n",
        "    (confirmed_line,) = plt.plot(\n",
        "        df[\"date\"],\n",
        "        df[\"last_available_confirmed\"] / scale,\n",
        "        \"b-\",\n",
        "        label=\"Confirmed Cases\",\n",
        "    )\n",
        "    (deaths_line,) = plt.plot(\n",
        "        df[\"date\"], df[\"last_available_deaths\"] / scale, \"r-\", label=\"Deaths\"\n",
        "    )\n",
        "\n",
        "    confirmed_points = plt.scatter(\n",
        "        df[\"date\"], df[\"last_available_confirmed\"] / scale, color=\"blue\", alpha=0.5\n",
        "    )\n",
        "    deaths_points = plt.scatter(\n",
        "        df[\"date\"], df[\"last_available_deaths\"] / scale, color=\"red\", alpha=0.5\n",
        "    )\n",
        "\n",
        "    location = f\"{city} ({state})\" if city and city != 'TOTAL' else state\n",
        "    plt.title(f\"COVID-19 Trends - {location}\")\n",
        "    plt.xlabel(\"Date\")\n",
        "    plt.ylabel(f\"Cases / Deaths\")\n",
        "    plt.legend()\n",
        "    plt.xticks(rotation=45)\n",
        "    plt.gca().xaxis.set_major_locator(plt.MaxNLocator(10))\n",
        "\n",
        "    plt.gca().yaxis.set_major_formatter(\n",
        "        plt.FuncFormatter(lambda x, pos: format_number(x))\n",
        "    )\n",
        "\n",
        "    plt.tight_layout()\n",
        "    plt.grid(True)\n",
        "\n",
        "    cursor = mplcursors.cursor([confirmed_points, deaths_points], hover=True)\n",
        "\n",
        "    @cursor.connect(\"add\")\n",
        "    def on_add(sel):\n",
        "        if sel.artist == confirmed_points:\n",
        "            idx = sel.target.index\n",
        "            date = df.iloc[idx][\"date\"].strftime(\"%Y-%m-%d\")\n",
        "            cases = format_number(df.iloc[idx][\"last_available_confirmed\"])\n",
        "            sel.annotation.set(text=f\"Date: {date}\\nConfirmed: {cases}\")\n",
        "        elif sel.artist == deaths_points:\n",
        "            idx = sel.target.index\n",
        "            date = df.iloc[idx][\"date\"].strftime(\"%Y-%m-%d\")\n",
        "            deaths = format_number(df.iloc[idx][\"last_available_deaths\"])\n",
        "            sel.annotation.set(text=f\"Date: {date}\\nDeaths: {deaths}\")\n",
        "\n",
        "    plt.show()\n",
        "\n",
        "\n",
        "states = sorted(df[\"state\"].dropna().unique())\n",
        "state_widget = widgets.Dropdown(options=states, value=\"SP\", description=\"State:\")\n",
        "city_widget = widgets.Dropdown(description=\"City:\")\n",
        "\n",
        "state_widget.observe(\n",
        "    lambda change: update_cities_on_state_change(change[\"new\"]), names=\"value\"\n",
        ")\n",
        "\n",
        "# Initialize with default state\n",
        "update_cities_on_state_change(\"SP\")\n",
        "\n",
        "min_date = covid_df[\"date\"].min()\n",
        "max_date = covid_df[\"date\"].max()\n",
        "\n",
        "interact(\n",
        "    plot_covid_data,\n",
        "    state=state_widget,\n",
        "    city=city_widget,\n",
        "    start_date=widgets.DatePicker(\n",
        "        value=pd.to_datetime(min_date), description=\"Start Date:\"\n",
        "    ),\n",
        "    end_date=widgets.DatePicker(\n",
        "        value=pd.to_datetime(max_date), description=\"End Date:\"\n",
        "    ),\n",
        ")"
      ]
    }
  ],
  "metadata": {
    "colab": {
      "include_colab_link": true,
      "provenance": []
    },
    "kernelspec": {
      "display_name": "base",
      "language": "python",
      "name": "python3"
    },
    "language_info": {
      "codemirror_mode": {
        "name": "ipython",
        "version": 3
      },
      "file_extension": ".py",
      "mimetype": "text/x-python",
      "name": "python",
      "nbconvert_exporter": "python",
      "pygments_lexer": "ipython3",
      "version": "3.12.7"
    }
  },
  "nbformat": 4,
  "nbformat_minor": 5
}
